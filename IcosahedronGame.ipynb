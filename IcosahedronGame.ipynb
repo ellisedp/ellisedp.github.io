{
  "nbformat": 4,
  "nbformat_minor": 0,
  "metadata": {
    "colab": {
      "provenance": [],
      "authorship_tag": "ABX9TyPfd4TrowlQOdwkv5zKi464",
      "include_colab_link": true
    },
    "kernelspec": {
      "name": "python3",
      "display_name": "Python 3"
    },
    "language_info": {
      "name": "python"
    }
  },
  "cells": [
    {
      "cell_type": "markdown",
      "metadata": {
        "id": "view-in-github",
        "colab_type": "text"
      },
      "source": [
        "<a href=\"https://colab.research.google.com/github/ellisedp/ellisedp.github.io/blob/master/IcosahedronGame.ipynb\" target=\"_parent\"><img src=\"https://colab.research.google.com/assets/colab-badge.svg\" alt=\"Open In Colab\"/></a>"
      ]
    },
    {
      "cell_type": "markdown",
      "source": [
        "Look up what’s an icosahedron: https://en.wikipedia.org/wiki/Icosahedron It has 20 sides (each of which is an equilateral triangle). Suppose you have an icosahedraldie with the numbers 1, 2, 3, . . . , 20 printed on its sides. If you roll such a die then it will rest on a unique triangle that is facing down, and that triangle has a unique triangle which is the opposite face–the one facing up, the number on that triangle facing up is taken for the number showing up for that roll. Two players play a game like this: \n",
        "- (1) Player A rolls the die 10 times, and computes the sum of all the 10 numbers that show up.\n",
        "- (2) Player B rolls the die 10 times, and computes the sum of all the 10 numbers that show up. \n",
        "\n",
        "Whichever player gets the higher sum is the winner. In case of a tie (the sums are equal),then they play again. Write a Python code to simulate this game."
      ],
      "metadata": {
        "id": "QGrhGJNz_FyS"
      }
    },
    {
      "cell_type": "code",
      "execution_count": null,
      "metadata": {
        "id": "pL0YwcHF--HH"
      },
      "outputs": [],
      "source": [
        "# Rolling a 20-sided die 10 times. Whichever player's sum is the highest, wins!\n",
        "# Now with BETTING...\n",
        "\n",
        "def list_sum(my_list):\n",
        "  \"\"\"Function to calculate the sum of a list of integers.\"\"\"\n",
        "  sum = 0\n",
        "  for i in range(len(my_list)):\n",
        "    sum += my_list[i]\n",
        "  return sum\n",
        "\n",
        "import random \n",
        "\n",
        "print(\"\"\"\n",
        "We will roll an icosahedron die (20-sided regular polygon) 10 times,\n",
        "once for you, and once for the computer. Whoever gets the higher sum wins!!\"\"\")\n",
        "print(\"\"\"\n",
        "- You have $100\n",
        "- You can bet as much as you have on who you think will win\n",
        "- If you guess correctly, you will earn the amount of your bet\n",
        "- If you guess incorrectly, you will lose that much\"\"\")\n",
        "print()\n",
        "\n",
        "count = 0\n",
        "user_money = 100.00\n",
        "round = 0\n",
        "while count == 0 and user_money > 0:\n",
        "  # Make sure the user enters valid numbers for winner and bet\n",
        "  winner = -1\n",
        "  bet = -1\n",
        "  while winner > 1 or winner < 0:\n",
        "    winner = int(input(\"Who do you think will win? (type 0 for you, 1 for computer): \"))\n",
        "  while bet > user_money or bet < 0:\n",
        "    bet = float(input(\"Place your bet in dollars: \"))\n",
        "  print()\n",
        "\n",
        "  # Create a list with the value of each of player A's 10 rolls \n",
        "  player_a = []  # User \n",
        "  for i in range(1,11):\n",
        "    player_a.append(random.randint(1,20))\n",
        "  print(\"Your rolls: \",player_a)\n",
        "  sum_a = list_sum(player_a)\n",
        "  print(\"Your sum is:\", sum_a)\n",
        "\n",
        "  # Create a list with the value of each of player B's 10 rolls \n",
        "  player_b = []  # Computer \n",
        "  for i in range(1,11):\n",
        "    player_b.append(random.randint(1,20))\n",
        "  print(\"Computer's rolls: \",player_b)\n",
        "  sum_b = list_sum(player_b)\n",
        "  print(\"The computer's sum is:\", sum_b)\n",
        "\n",
        "  print()\n",
        "\n",
        "  # If-statement saying what to do depending on who's sum is larger\n",
        "  if (sum_a < sum_b):\n",
        "    print(\"The computer's sum is larger!\")\n",
        "    if winner == 0:\n",
        "      user_money -= bet\n",
        "      print(\"You lose: $\", \"{:.2f}\".format(bet))\n",
        "    elif winner == 1:\n",
        "      user_money += bet\n",
        "      print(\"You win: $\", \"{:.2f}\".format(bet))\n",
        "    print(\"You now have: $\", \"{:.2f}\".format(user_money))\n",
        "    print()\n",
        "    # See if they want to play again\n",
        "    if user_money > 0:\n",
        "      ans = str(input(\"Play again? (y/n)\"))\n",
        "    else: \n",
        "      print(\"Sorry, you've run out of money, goodbye!\")\n",
        "    if ans == 'y':\n",
        "      count = 0\n",
        "    else:\n",
        "      count += 1 \n",
        "  elif (sum_a > sum_b):\n",
        "    print(\"You're sum is larger!\")\n",
        "    if winner == 1:\n",
        "      user_money -= bet\n",
        "      print(\"You lose: $\", \"{:.2f}\".format(bet))\n",
        "    elif winner == 0:\n",
        "      user_money += bet\n",
        "      print(\"You win: $\", \"{:.2f}\".format(bet))\n",
        "    print(\"You now have: $\", \"{:.2f}\".format(user_money))\n",
        "    print()\n",
        "    # See if they want to play again\n",
        "    if user_money > 0:\n",
        "      ans = str(input(\"Play again? (y/n)\"))\n",
        "    else: \n",
        "      print(\"Sorry, you've run out of money, goodbye!\")\n",
        "    if ans == 'y':\n",
        "      count = 0\n",
        "    else:\n",
        "      count += 1\n",
        "  else:\n",
        "    print(\"There was a TIE. You must play again.\")\n",
        "    count = 0\n",
        "  \n",
        "  print()"
      ]
    }
  ]
}