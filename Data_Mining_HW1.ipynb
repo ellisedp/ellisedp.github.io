{
  "nbformat": 4,
  "nbformat_minor": 0,
  "metadata": {
    "colab": {
      "provenance": [],
      "collapsed_sections": [
        "QtppV4fluoro"
      ],
      "authorship_tag": "ABX9TyP+1jpBlDAaUm+kDPdNxlPs",
      "include_colab_link": true
    },
    "kernelspec": {
      "name": "python3",
      "display_name": "Python 3"
    },
    "language_info": {
      "name": "python"
    }
  },
  "cells": [
    {
      "cell_type": "markdown",
      "metadata": {
        "id": "view-in-github",
        "colab_type": "text"
      },
      "source": [
        "<a href=\"https://colab.research.google.com/github/ellisedp/ellisedp.github.io/blob/master/Data_Mining_HW1.ipynb\" target=\"_parent\"><img src=\"https://colab.research.google.com/assets/colab-badge.svg\" alt=\"Open In Colab\"/></a>"
      ]
    },
    {
      "cell_type": "code",
      "execution_count": null,
      "metadata": {
        "id": "kYI8RfK89_Y8"
      },
      "outputs": [],
      "source": [
        "import pandas as pd\n",
        "import numpy as np  # For euclidiean distance: np.linalg.norm(point1 - point2) \n",
        "import math\n",
        "from scipy.stats import zscore"
      ]
    },
    {
      "cell_type": "markdown",
      "source": [
        "# Import and Preprocess Data"
      ],
      "metadata": {
        "id": "FacdrIY_KgLL"
      }
    },
    {
      "cell_type": "markdown",
      "source": [
        "Import Testing Data"
      ],
      "metadata": {
        "id": "Cnzx6W60P1Ax"
      }
    },
    {
      "cell_type": "code",
      "source": [
        "# Import testing data \n",
        "dftest = pd.read_csv('spam_test.csv')\n",
        "dftest"
      ],
      "metadata": {
        "colab": {
          "base_uri": "https://localhost:8080/",
          "height": 424
        },
        "id": "sikbS2mM_8Ek",
        "outputId": "7bd89f5f-f502-4849-bfe6-ca631b6ccf28"
      },
      "execution_count": null,
      "outputs": [
        {
          "output_type": "execute_result",
          "data": {
            "text/plain": [
              "         ID    f1    f2    f3    f4    f5    f6    f7    f8    f9  ...    f49  \\\n",
              "0        t1  0.00  0.00  0.00  0.00  0.00  0.00  0.00  2.50  0.00  ...  0.000   \n",
              "1        t2  0.31  0.00  0.63  1.91  0.21  0.00  0.00  0.00  0.42  ...  0.000   \n",
              "2        t3  0.00  0.75  0.37  0.00  0.00  0.00  0.75  0.00  0.00  ...  0.000   \n",
              "3        t4  0.00  1.96  0.98  0.00  0.00  0.00  1.96  0.00  0.00  ...  0.000   \n",
              "4        t5  0.51  0.43  0.29  0.00  0.14  0.03  0.00  0.18  0.54  ...  0.012   \n",
              "...     ...   ...   ...   ...   ...   ...   ...   ...   ...   ...  ...    ...   \n",
              "2296  t2297  0.31  0.00  0.62  0.00  0.00  0.31  0.00  0.00  0.00  ...  0.000   \n",
              "2297  t2298  0.00  0.00  0.00  0.00  0.00  0.00  0.00  0.00  0.00  ...  0.000   \n",
              "2298  t2299  0.30  0.00  0.30  0.00  0.00  0.00  0.00  0.00  0.00  ...  0.102   \n",
              "2299  t2300  0.96  0.00  0.00  0.00  0.32  0.00  0.00  0.00  0.00  ...  0.000   \n",
              "2300  t2301  0.00  0.00  0.65  0.00  0.00  0.00  0.00  0.00  0.00  ...  0.000   \n",
              "\n",
              "        f50  f51    f52    f53    f54    f55  f56   f57  Label  \n",
              "0     0.182  0.0  0.000  0.182  0.000  3.545   21    78      1  \n",
              "1     0.169  0.0  0.358  0.188  0.075  2.847   75   447      1  \n",
              "2     0.000  0.0  0.242  0.000  0.145  9.584  332   508      1  \n",
              "3     0.168  0.0  1.011  0.000  0.000  2.888   12    52      1  \n",
              "4     0.080  0.0  0.454  0.523  0.136  6.590  739  2333      1  \n",
              "...     ...  ...    ...    ...    ...    ...  ...   ...    ...  \n",
              "2296  0.232  0.0  0.000  0.000  0.000  1.142    3    88      0  \n",
              "2297  0.000  0.0  0.353  0.000  0.000  1.555    4    14      0  \n",
              "2298  0.718  0.0  0.000  0.000  0.000  1.404    6   118      0  \n",
              "2299  0.057  0.0  0.000  0.000  0.000  1.147    5    78      0  \n",
              "2300  0.000  0.0  0.125  0.000  0.000  1.250    5    40      0  \n",
              "\n",
              "[2301 rows x 59 columns]"
            ],
            "text/html": [
              "\n",
              "  <div id=\"df-ed1556b1-0f69-4293-8782-8f363cefc6fe\">\n",
              "    <div class=\"colab-df-container\">\n",
              "      <div>\n",
              "<style scoped>\n",
              "    .dataframe tbody tr th:only-of-type {\n",
              "        vertical-align: middle;\n",
              "    }\n",
              "\n",
              "    .dataframe tbody tr th {\n",
              "        vertical-align: top;\n",
              "    }\n",
              "\n",
              "    .dataframe thead th {\n",
              "        text-align: right;\n",
              "    }\n",
              "</style>\n",
              "<table border=\"1\" class=\"dataframe\">\n",
              "  <thead>\n",
              "    <tr style=\"text-align: right;\">\n",
              "      <th></th>\n",
              "      <th>ID</th>\n",
              "      <th>f1</th>\n",
              "      <th>f2</th>\n",
              "      <th>f3</th>\n",
              "      <th>f4</th>\n",
              "      <th>f5</th>\n",
              "      <th>f6</th>\n",
              "      <th>f7</th>\n",
              "      <th>f8</th>\n",
              "      <th>f9</th>\n",
              "      <th>...</th>\n",
              "      <th>f49</th>\n",
              "      <th>f50</th>\n",
              "      <th>f51</th>\n",
              "      <th>f52</th>\n",
              "      <th>f53</th>\n",
              "      <th>f54</th>\n",
              "      <th>f55</th>\n",
              "      <th>f56</th>\n",
              "      <th>f57</th>\n",
              "      <th>Label</th>\n",
              "    </tr>\n",
              "  </thead>\n",
              "  <tbody>\n",
              "    <tr>\n",
              "      <th>0</th>\n",
              "      <td>t1</td>\n",
              "      <td>0.00</td>\n",
              "      <td>0.00</td>\n",
              "      <td>0.00</td>\n",
              "      <td>0.00</td>\n",
              "      <td>0.00</td>\n",
              "      <td>0.00</td>\n",
              "      <td>0.00</td>\n",
              "      <td>2.50</td>\n",
              "      <td>0.00</td>\n",
              "      <td>...</td>\n",
              "      <td>0.000</td>\n",
              "      <td>0.182</td>\n",
              "      <td>0.0</td>\n",
              "      <td>0.000</td>\n",
              "      <td>0.182</td>\n",
              "      <td>0.000</td>\n",
              "      <td>3.545</td>\n",
              "      <td>21</td>\n",
              "      <td>78</td>\n",
              "      <td>1</td>\n",
              "    </tr>\n",
              "    <tr>\n",
              "      <th>1</th>\n",
              "      <td>t2</td>\n",
              "      <td>0.31</td>\n",
              "      <td>0.00</td>\n",
              "      <td>0.63</td>\n",
              "      <td>1.91</td>\n",
              "      <td>0.21</td>\n",
              "      <td>0.00</td>\n",
              "      <td>0.00</td>\n",
              "      <td>0.00</td>\n",
              "      <td>0.42</td>\n",
              "      <td>...</td>\n",
              "      <td>0.000</td>\n",
              "      <td>0.169</td>\n",
              "      <td>0.0</td>\n",
              "      <td>0.358</td>\n",
              "      <td>0.188</td>\n",
              "      <td>0.075</td>\n",
              "      <td>2.847</td>\n",
              "      <td>75</td>\n",
              "      <td>447</td>\n",
              "      <td>1</td>\n",
              "    </tr>\n",
              "    <tr>\n",
              "      <th>2</th>\n",
              "      <td>t3</td>\n",
              "      <td>0.00</td>\n",
              "      <td>0.75</td>\n",
              "      <td>0.37</td>\n",
              "      <td>0.00</td>\n",
              "      <td>0.00</td>\n",
              "      <td>0.00</td>\n",
              "      <td>0.75</td>\n",
              "      <td>0.00</td>\n",
              "      <td>0.00</td>\n",
              "      <td>...</td>\n",
              "      <td>0.000</td>\n",
              "      <td>0.000</td>\n",
              "      <td>0.0</td>\n",
              "      <td>0.242</td>\n",
              "      <td>0.000</td>\n",
              "      <td>0.145</td>\n",
              "      <td>9.584</td>\n",
              "      <td>332</td>\n",
              "      <td>508</td>\n",
              "      <td>1</td>\n",
              "    </tr>\n",
              "    <tr>\n",
              "      <th>3</th>\n",
              "      <td>t4</td>\n",
              "      <td>0.00</td>\n",
              "      <td>1.96</td>\n",
              "      <td>0.98</td>\n",
              "      <td>0.00</td>\n",
              "      <td>0.00</td>\n",
              "      <td>0.00</td>\n",
              "      <td>1.96</td>\n",
              "      <td>0.00</td>\n",
              "      <td>0.00</td>\n",
              "      <td>...</td>\n",
              "      <td>0.000</td>\n",
              "      <td>0.168</td>\n",
              "      <td>0.0</td>\n",
              "      <td>1.011</td>\n",
              "      <td>0.000</td>\n",
              "      <td>0.000</td>\n",
              "      <td>2.888</td>\n",
              "      <td>12</td>\n",
              "      <td>52</td>\n",
              "      <td>1</td>\n",
              "    </tr>\n",
              "    <tr>\n",
              "      <th>4</th>\n",
              "      <td>t5</td>\n",
              "      <td>0.51</td>\n",
              "      <td>0.43</td>\n",
              "      <td>0.29</td>\n",
              "      <td>0.00</td>\n",
              "      <td>0.14</td>\n",
              "      <td>0.03</td>\n",
              "      <td>0.00</td>\n",
              "      <td>0.18</td>\n",
              "      <td>0.54</td>\n",
              "      <td>...</td>\n",
              "      <td>0.012</td>\n",
              "      <td>0.080</td>\n",
              "      <td>0.0</td>\n",
              "      <td>0.454</td>\n",
              "      <td>0.523</td>\n",
              "      <td>0.136</td>\n",
              "      <td>6.590</td>\n",
              "      <td>739</td>\n",
              "      <td>2333</td>\n",
              "      <td>1</td>\n",
              "    </tr>\n",
              "    <tr>\n",
              "      <th>...</th>\n",
              "      <td>...</td>\n",
              "      <td>...</td>\n",
              "      <td>...</td>\n",
              "      <td>...</td>\n",
              "      <td>...</td>\n",
              "      <td>...</td>\n",
              "      <td>...</td>\n",
              "      <td>...</td>\n",
              "      <td>...</td>\n",
              "      <td>...</td>\n",
              "      <td>...</td>\n",
              "      <td>...</td>\n",
              "      <td>...</td>\n",
              "      <td>...</td>\n",
              "      <td>...</td>\n",
              "      <td>...</td>\n",
              "      <td>...</td>\n",
              "      <td>...</td>\n",
              "      <td>...</td>\n",
              "      <td>...</td>\n",
              "      <td>...</td>\n",
              "    </tr>\n",
              "    <tr>\n",
              "      <th>2296</th>\n",
              "      <td>t2297</td>\n",
              "      <td>0.31</td>\n",
              "      <td>0.00</td>\n",
              "      <td>0.62</td>\n",
              "      <td>0.00</td>\n",
              "      <td>0.00</td>\n",
              "      <td>0.31</td>\n",
              "      <td>0.00</td>\n",
              "      <td>0.00</td>\n",
              "      <td>0.00</td>\n",
              "      <td>...</td>\n",
              "      <td>0.000</td>\n",
              "      <td>0.232</td>\n",
              "      <td>0.0</td>\n",
              "      <td>0.000</td>\n",
              "      <td>0.000</td>\n",
              "      <td>0.000</td>\n",
              "      <td>1.142</td>\n",
              "      <td>3</td>\n",
              "      <td>88</td>\n",
              "      <td>0</td>\n",
              "    </tr>\n",
              "    <tr>\n",
              "      <th>2297</th>\n",
              "      <td>t2298</td>\n",
              "      <td>0.00</td>\n",
              "      <td>0.00</td>\n",
              "      <td>0.00</td>\n",
              "      <td>0.00</td>\n",
              "      <td>0.00</td>\n",
              "      <td>0.00</td>\n",
              "      <td>0.00</td>\n",
              "      <td>0.00</td>\n",
              "      <td>0.00</td>\n",
              "      <td>...</td>\n",
              "      <td>0.000</td>\n",
              "      <td>0.000</td>\n",
              "      <td>0.0</td>\n",
              "      <td>0.353</td>\n",
              "      <td>0.000</td>\n",
              "      <td>0.000</td>\n",
              "      <td>1.555</td>\n",
              "      <td>4</td>\n",
              "      <td>14</td>\n",
              "      <td>0</td>\n",
              "    </tr>\n",
              "    <tr>\n",
              "      <th>2298</th>\n",
              "      <td>t2299</td>\n",
              "      <td>0.30</td>\n",
              "      <td>0.00</td>\n",
              "      <td>0.30</td>\n",
              "      <td>0.00</td>\n",
              "      <td>0.00</td>\n",
              "      <td>0.00</td>\n",
              "      <td>0.00</td>\n",
              "      <td>0.00</td>\n",
              "      <td>0.00</td>\n",
              "      <td>...</td>\n",
              "      <td>0.102</td>\n",
              "      <td>0.718</td>\n",
              "      <td>0.0</td>\n",
              "      <td>0.000</td>\n",
              "      <td>0.000</td>\n",
              "      <td>0.000</td>\n",
              "      <td>1.404</td>\n",
              "      <td>6</td>\n",
              "      <td>118</td>\n",
              "      <td>0</td>\n",
              "    </tr>\n",
              "    <tr>\n",
              "      <th>2299</th>\n",
              "      <td>t2300</td>\n",
              "      <td>0.96</td>\n",
              "      <td>0.00</td>\n",
              "      <td>0.00</td>\n",
              "      <td>0.00</td>\n",
              "      <td>0.32</td>\n",
              "      <td>0.00</td>\n",
              "      <td>0.00</td>\n",
              "      <td>0.00</td>\n",
              "      <td>0.00</td>\n",
              "      <td>...</td>\n",
              "      <td>0.000</td>\n",
              "      <td>0.057</td>\n",
              "      <td>0.0</td>\n",
              "      <td>0.000</td>\n",
              "      <td>0.000</td>\n",
              "      <td>0.000</td>\n",
              "      <td>1.147</td>\n",
              "      <td>5</td>\n",
              "      <td>78</td>\n",
              "      <td>0</td>\n",
              "    </tr>\n",
              "    <tr>\n",
              "      <th>2300</th>\n",
              "      <td>t2301</td>\n",
              "      <td>0.00</td>\n",
              "      <td>0.00</td>\n",
              "      <td>0.65</td>\n",
              "      <td>0.00</td>\n",
              "      <td>0.00</td>\n",
              "      <td>0.00</td>\n",
              "      <td>0.00</td>\n",
              "      <td>0.00</td>\n",
              "      <td>0.00</td>\n",
              "      <td>...</td>\n",
              "      <td>0.000</td>\n",
              "      <td>0.000</td>\n",
              "      <td>0.0</td>\n",
              "      <td>0.125</td>\n",
              "      <td>0.000</td>\n",
              "      <td>0.000</td>\n",
              "      <td>1.250</td>\n",
              "      <td>5</td>\n",
              "      <td>40</td>\n",
              "      <td>0</td>\n",
              "    </tr>\n",
              "  </tbody>\n",
              "</table>\n",
              "<p>2301 rows × 59 columns</p>\n",
              "</div>\n",
              "      <button class=\"colab-df-convert\" onclick=\"convertToInteractive('df-ed1556b1-0f69-4293-8782-8f363cefc6fe')\"\n",
              "              title=\"Convert this dataframe to an interactive table.\"\n",
              "              style=\"display:none;\">\n",
              "        \n",
              "  <svg xmlns=\"http://www.w3.org/2000/svg\" height=\"24px\"viewBox=\"0 0 24 24\"\n",
              "       width=\"24px\">\n",
              "    <path d=\"M0 0h24v24H0V0z\" fill=\"none\"/>\n",
              "    <path d=\"M18.56 5.44l.94 2.06.94-2.06 2.06-.94-2.06-.94-.94-2.06-.94 2.06-2.06.94zm-11 1L8.5 8.5l.94-2.06 2.06-.94-2.06-.94L8.5 2.5l-.94 2.06-2.06.94zm10 10l.94 2.06.94-2.06 2.06-.94-2.06-.94-.94-2.06-.94 2.06-2.06.94z\"/><path d=\"M17.41 7.96l-1.37-1.37c-.4-.4-.92-.59-1.43-.59-.52 0-1.04.2-1.43.59L10.3 9.45l-7.72 7.72c-.78.78-.78 2.05 0 2.83L4 21.41c.39.39.9.59 1.41.59.51 0 1.02-.2 1.41-.59l7.78-7.78 2.81-2.81c.8-.78.8-2.07 0-2.86zM5.41 20L4 18.59l7.72-7.72 1.47 1.35L5.41 20z\"/>\n",
              "  </svg>\n",
              "      </button>\n",
              "      \n",
              "  <style>\n",
              "    .colab-df-container {\n",
              "      display:flex;\n",
              "      flex-wrap:wrap;\n",
              "      gap: 12px;\n",
              "    }\n",
              "\n",
              "    .colab-df-convert {\n",
              "      background-color: #E8F0FE;\n",
              "      border: none;\n",
              "      border-radius: 50%;\n",
              "      cursor: pointer;\n",
              "      display: none;\n",
              "      fill: #1967D2;\n",
              "      height: 32px;\n",
              "      padding: 0 0 0 0;\n",
              "      width: 32px;\n",
              "    }\n",
              "\n",
              "    .colab-df-convert:hover {\n",
              "      background-color: #E2EBFA;\n",
              "      box-shadow: 0px 1px 2px rgba(60, 64, 67, 0.3), 0px 1px 3px 1px rgba(60, 64, 67, 0.15);\n",
              "      fill: #174EA6;\n",
              "    }\n",
              "\n",
              "    [theme=dark] .colab-df-convert {\n",
              "      background-color: #3B4455;\n",
              "      fill: #D2E3FC;\n",
              "    }\n",
              "\n",
              "    [theme=dark] .colab-df-convert:hover {\n",
              "      background-color: #434B5C;\n",
              "      box-shadow: 0px 1px 3px 1px rgba(0, 0, 0, 0.15);\n",
              "      filter: drop-shadow(0px 1px 2px rgba(0, 0, 0, 0.3));\n",
              "      fill: #FFFFFF;\n",
              "    }\n",
              "  </style>\n",
              "\n",
              "      <script>\n",
              "        const buttonEl =\n",
              "          document.querySelector('#df-ed1556b1-0f69-4293-8782-8f363cefc6fe button.colab-df-convert');\n",
              "        buttonEl.style.display =\n",
              "          google.colab.kernel.accessAllowed ? 'block' : 'none';\n",
              "\n",
              "        async function convertToInteractive(key) {\n",
              "          const element = document.querySelector('#df-ed1556b1-0f69-4293-8782-8f363cefc6fe');\n",
              "          const dataTable =\n",
              "            await google.colab.kernel.invokeFunction('convertToInteractive',\n",
              "                                                     [key], {});\n",
              "          if (!dataTable) return;\n",
              "\n",
              "          const docLinkHtml = 'Like what you see? Visit the ' +\n",
              "            '<a target=\"_blank\" href=https://colab.research.google.com/notebooks/data_table.ipynb>data table notebook</a>'\n",
              "            + ' to learn more about interactive tables.';\n",
              "          element.innerHTML = '';\n",
              "          dataTable['output_type'] = 'display_data';\n",
              "          await google.colab.output.renderOutput(dataTable, element);\n",
              "          const docLink = document.createElement('div');\n",
              "          docLink.innerHTML = docLinkHtml;\n",
              "          element.appendChild(docLink);\n",
              "        }\n",
              "      </script>\n",
              "    </div>\n",
              "  </div>\n",
              "  "
            ]
          },
          "metadata": {},
          "execution_count": 115
        }
      ]
    },
    {
      "cell_type": "markdown",
      "source": [
        "Preprocess Testing Data"
      ],
      "metadata": {
        "id": "k7uiixLUKLST"
      }
    },
    {
      "cell_type": "code",
      "source": [
        "# Check for NaN\n",
        "dftest.isnull().sum().sum()"
      ],
      "metadata": {
        "colab": {
          "base_uri": "https://localhost:8080/"
        },
        "id": "UlxhQNJAKPVn",
        "outputId": "4112e14a-ef0d-4696-fc69-e117cff93b6b"
      },
      "execution_count": null,
      "outputs": [
        {
          "output_type": "execute_result",
          "data": {
            "text/plain": [
              "0"
            ]
          },
          "metadata": {},
          "execution_count": 116
        }
      ]
    },
    {
      "cell_type": "code",
      "source": [
        "# Count labels \n",
        "dftest.Label.value_counts()"
      ],
      "metadata": {
        "colab": {
          "base_uri": "https://localhost:8080/"
        },
        "id": "vErQMJcdK8hv",
        "outputId": "30811560-2116-4cea-f225-2a3bd3e52148"
      },
      "execution_count": null,
      "outputs": [
        {
          "output_type": "execute_result",
          "data": {
            "text/plain": [
              "0    1394\n",
              "1     907\n",
              "Name: Label, dtype: int64"
            ]
          },
          "metadata": {},
          "execution_count": 117
        }
      ]
    },
    {
      "cell_type": "code",
      "source": [
        "# Turn pandas df into a numpy array\n",
        "dftest_array = dftest.to_numpy()\n",
        "print(dftest_array)\n",
        "print(dftest_array.shape)"
      ],
      "metadata": {
        "colab": {
          "base_uri": "https://localhost:8080/"
        },
        "id": "1QLVRZzNdrMb",
        "outputId": "c73adbc7-796b-4027-85b2-49327e84ba5c"
      },
      "execution_count": null,
      "outputs": [
        {
          "output_type": "stream",
          "name": "stdout",
          "text": [
            "[['t1' 0.0 0.0 ... 21 78 1]\n",
            " ['t2' 0.31 0.0 ... 75 447 1]\n",
            " ['t3' 0.0 0.75 ... 332 508 1]\n",
            " ...\n",
            " ['t2299' 0.3 0.0 ... 6 118 0]\n",
            " ['t2300' 0.96 0.0 ... 5 78 0]\n",
            " ['t2301' 0.0 0.0 ... 5 40 0]]\n",
            "(2301, 59)\n"
          ]
        }
      ]
    },
    {
      "cell_type": "code",
      "source": [
        "# Make array with only features \n",
        "dftest_feat = np.delete(dftest_array, [0, 58], 1)\n",
        "print(dftest_feat)\n",
        "print(dftest_feat.shape)"
      ],
      "metadata": {
        "colab": {
          "base_uri": "https://localhost:8080/"
        },
        "id": "RYHreKKWeTLU",
        "outputId": "ee4ef594-bb4e-42b4-889e-a5c459ebdb69"
      },
      "execution_count": null,
      "outputs": [
        {
          "output_type": "stream",
          "name": "stdout",
          "text": [
            "[[0.0 0.0 0.0 ... 3.545 21 78]\n",
            " [0.31 0.0 0.63 ... 2.847 75 447]\n",
            " [0.0 0.75 0.37 ... 9.584 332 508]\n",
            " ...\n",
            " [0.3 0.0 0.3 ... 1.404 6 118]\n",
            " [0.96 0.0 0.0 ... 1.147 5 78]\n",
            " [0.0 0.0 0.65 ... 1.25 5 40]]\n",
            "(2301, 57)\n"
          ]
        }
      ]
    },
    {
      "cell_type": "code",
      "source": [
        "# Normalize testing data\n",
        "DFtest = dftest.drop(columns=[\" ID\", \"Label\"])\n",
        "N_dftest = DFtest.apply(zscore)\n",
        "N_dftest_feat = N_dftest.to_numpy()"
      ],
      "metadata": {
        "colab": {
          "base_uri": "https://localhost:8080/"
        },
        "id": "zpaBwRdjyucZ",
        "outputId": "99c3dd40-a0f3-4ff7-aeda-8eedae874259"
      },
      "execution_count": null,
      "outputs": [
        {
          "output_type": "execute_result",
          "data": {
            "text/plain": [
              "array([[-0.33949281, -0.27355124, -0.55156119, ..., -0.04382859,\n",
              "        -0.13165149, -0.31213475],\n",
              "       [ 0.5981446 , -0.27355124,  0.69037676, ..., -0.084122  ,\n",
              "         0.09770585,  0.28698167],\n",
              "       [-0.33949281,  1.69673696,  0.17783094, ...,  0.30478452,\n",
              "         1.18927693,  0.38602259],\n",
              "       ...,\n",
              "       [ 0.56789823, -0.27355124,  0.03983783, ..., -0.16742201,\n",
              "        -0.19536187, -0.24718988],\n",
              "       [ 2.56415852, -0.27355124, -0.55156119, ..., -0.18225783,\n",
              "        -0.19960923, -0.31213475],\n",
              "       [-0.33949281, -0.27355124,  0.72980336, ..., -0.17631196,\n",
              "        -0.19960923, -0.37383238]])"
            ]
          },
          "metadata": {},
          "execution_count": 133
        }
      ]
    },
    {
      "cell_type": "markdown",
      "source": [
        "Import Training Data"
      ],
      "metadata": {
        "id": "t7dLyf0RPvbk"
      }
    },
    {
      "cell_type": "code",
      "source": [
        "dftrain = pd.read_csv('spam_train.csv')\n",
        "dftrain"
      ],
      "metadata": {
        "colab": {
          "base_uri": "https://localhost:8080/",
          "height": 424
        },
        "id": "Vr5kdhByKAnd",
        "outputId": "ee5d0bb9-4440-425a-e4f2-5dcb775f1c64"
      },
      "execution_count": null,
      "outputs": [
        {
          "output_type": "execute_result",
          "data": {
            "text/plain": [
              "         ID    f1    f2    f3   f4    f5    f6    f7    f8    f9  ...   f49  \\\n",
              "0        x1  0.00  0.64  0.64  0.0  0.32  0.00  0.00  0.00  0.00  ...  0.00   \n",
              "1        x2  0.21  0.28  0.50  0.0  0.14  0.28  0.21  0.07  0.00  ...  0.00   \n",
              "2        x3  0.06  0.00  0.71  0.0  1.23  0.19  0.19  0.12  0.64  ...  0.01   \n",
              "3        x4  0.00  0.00  0.00  0.0  0.63  0.00  0.31  0.63  0.31  ...  0.00   \n",
              "4        x5  0.00  0.00  0.00  0.0  0.63  0.00  0.31  0.63  0.31  ...  0.00   \n",
              "...     ...   ...   ...   ...  ...   ...   ...   ...   ...   ...  ...   ...   \n",
              "2295  x2296  0.00  0.00  0.00  0.0  0.00  0.00  0.00  0.00  0.00  ...  0.00   \n",
              "2296  x2297  0.00  0.00  0.00  0.0  0.00  0.00  0.00  0.00  0.00  ...  0.00   \n",
              "2297  x2298  0.00  0.00  0.00  0.0  0.00  0.00  0.00  0.00  0.00  ...  0.00   \n",
              "2298  x2299  0.00  0.00  0.60  0.0  0.60  0.00  0.00  0.00  0.00  ...  0.00   \n",
              "2299  x2300  0.00  0.32  0.32  0.0  0.16  0.16  0.00  0.00  0.16  ...  0.00   \n",
              "\n",
              "        f50  f51    f52    f53    f54    f55  f56   f57  Label  \n",
              "0     0.000  0.0  0.778  0.000  0.000  3.756   61   278      1  \n",
              "1     0.132  0.0  0.372  0.180  0.048  5.114  101  1028      1  \n",
              "2     0.143  0.0  0.276  0.184  0.010  9.821  485  2259      1  \n",
              "3     0.137  0.0  0.137  0.000  0.000  3.537   40   191      1  \n",
              "4     0.135  0.0  0.135  0.000  0.000  3.537   40   191      1  \n",
              "...     ...  ...    ...    ...    ...    ...  ...   ...    ...  \n",
              "2295  0.250  0.0  0.000  0.000  0.000  1.601    8   173      0  \n",
              "2296  0.632  0.0  0.000  0.000  0.000  2.142   11    45      0  \n",
              "2297  0.091  0.0  0.045  0.000  0.000  2.333   15   175      0  \n",
              "2298  0.110  0.0  0.000  0.000  0.000  1.074    3    29      0  \n",
              "2299  1.309  0.0  0.022  0.377  0.000  3.918  157   772      0  \n",
              "\n",
              "[2300 rows x 59 columns]"
            ],
            "text/html": [
              "\n",
              "  <div id=\"df-26cc5176-e73f-4ba1-a5c6-07b3dda21298\">\n",
              "    <div class=\"colab-df-container\">\n",
              "      <div>\n",
              "<style scoped>\n",
              "    .dataframe tbody tr th:only-of-type {\n",
              "        vertical-align: middle;\n",
              "    }\n",
              "\n",
              "    .dataframe tbody tr th {\n",
              "        vertical-align: top;\n",
              "    }\n",
              "\n",
              "    .dataframe thead th {\n",
              "        text-align: right;\n",
              "    }\n",
              "</style>\n",
              "<table border=\"1\" class=\"dataframe\">\n",
              "  <thead>\n",
              "    <tr style=\"text-align: right;\">\n",
              "      <th></th>\n",
              "      <th>ID</th>\n",
              "      <th>f1</th>\n",
              "      <th>f2</th>\n",
              "      <th>f3</th>\n",
              "      <th>f4</th>\n",
              "      <th>f5</th>\n",
              "      <th>f6</th>\n",
              "      <th>f7</th>\n",
              "      <th>f8</th>\n",
              "      <th>f9</th>\n",
              "      <th>...</th>\n",
              "      <th>f49</th>\n",
              "      <th>f50</th>\n",
              "      <th>f51</th>\n",
              "      <th>f52</th>\n",
              "      <th>f53</th>\n",
              "      <th>f54</th>\n",
              "      <th>f55</th>\n",
              "      <th>f56</th>\n",
              "      <th>f57</th>\n",
              "      <th>Label</th>\n",
              "    </tr>\n",
              "  </thead>\n",
              "  <tbody>\n",
              "    <tr>\n",
              "      <th>0</th>\n",
              "      <td>x1</td>\n",
              "      <td>0.00</td>\n",
              "      <td>0.64</td>\n",
              "      <td>0.64</td>\n",
              "      <td>0.0</td>\n",
              "      <td>0.32</td>\n",
              "      <td>0.00</td>\n",
              "      <td>0.00</td>\n",
              "      <td>0.00</td>\n",
              "      <td>0.00</td>\n",
              "      <td>...</td>\n",
              "      <td>0.00</td>\n",
              "      <td>0.000</td>\n",
              "      <td>0.0</td>\n",
              "      <td>0.778</td>\n",
              "      <td>0.000</td>\n",
              "      <td>0.000</td>\n",
              "      <td>3.756</td>\n",
              "      <td>61</td>\n",
              "      <td>278</td>\n",
              "      <td>1</td>\n",
              "    </tr>\n",
              "    <tr>\n",
              "      <th>1</th>\n",
              "      <td>x2</td>\n",
              "      <td>0.21</td>\n",
              "      <td>0.28</td>\n",
              "      <td>0.50</td>\n",
              "      <td>0.0</td>\n",
              "      <td>0.14</td>\n",
              "      <td>0.28</td>\n",
              "      <td>0.21</td>\n",
              "      <td>0.07</td>\n",
              "      <td>0.00</td>\n",
              "      <td>...</td>\n",
              "      <td>0.00</td>\n",
              "      <td>0.132</td>\n",
              "      <td>0.0</td>\n",
              "      <td>0.372</td>\n",
              "      <td>0.180</td>\n",
              "      <td>0.048</td>\n",
              "      <td>5.114</td>\n",
              "      <td>101</td>\n",
              "      <td>1028</td>\n",
              "      <td>1</td>\n",
              "    </tr>\n",
              "    <tr>\n",
              "      <th>2</th>\n",
              "      <td>x3</td>\n",
              "      <td>0.06</td>\n",
              "      <td>0.00</td>\n",
              "      <td>0.71</td>\n",
              "      <td>0.0</td>\n",
              "      <td>1.23</td>\n",
              "      <td>0.19</td>\n",
              "      <td>0.19</td>\n",
              "      <td>0.12</td>\n",
              "      <td>0.64</td>\n",
              "      <td>...</td>\n",
              "      <td>0.01</td>\n",
              "      <td>0.143</td>\n",
              "      <td>0.0</td>\n",
              "      <td>0.276</td>\n",
              "      <td>0.184</td>\n",
              "      <td>0.010</td>\n",
              "      <td>9.821</td>\n",
              "      <td>485</td>\n",
              "      <td>2259</td>\n",
              "      <td>1</td>\n",
              "    </tr>\n",
              "    <tr>\n",
              "      <th>3</th>\n",
              "      <td>x4</td>\n",
              "      <td>0.00</td>\n",
              "      <td>0.00</td>\n",
              "      <td>0.00</td>\n",
              "      <td>0.0</td>\n",
              "      <td>0.63</td>\n",
              "      <td>0.00</td>\n",
              "      <td>0.31</td>\n",
              "      <td>0.63</td>\n",
              "      <td>0.31</td>\n",
              "      <td>...</td>\n",
              "      <td>0.00</td>\n",
              "      <td>0.137</td>\n",
              "      <td>0.0</td>\n",
              "      <td>0.137</td>\n",
              "      <td>0.000</td>\n",
              "      <td>0.000</td>\n",
              "      <td>3.537</td>\n",
              "      <td>40</td>\n",
              "      <td>191</td>\n",
              "      <td>1</td>\n",
              "    </tr>\n",
              "    <tr>\n",
              "      <th>4</th>\n",
              "      <td>x5</td>\n",
              "      <td>0.00</td>\n",
              "      <td>0.00</td>\n",
              "      <td>0.00</td>\n",
              "      <td>0.0</td>\n",
              "      <td>0.63</td>\n",
              "      <td>0.00</td>\n",
              "      <td>0.31</td>\n",
              "      <td>0.63</td>\n",
              "      <td>0.31</td>\n",
              "      <td>...</td>\n",
              "      <td>0.00</td>\n",
              "      <td>0.135</td>\n",
              "      <td>0.0</td>\n",
              "      <td>0.135</td>\n",
              "      <td>0.000</td>\n",
              "      <td>0.000</td>\n",
              "      <td>3.537</td>\n",
              "      <td>40</td>\n",
              "      <td>191</td>\n",
              "      <td>1</td>\n",
              "    </tr>\n",
              "    <tr>\n",
              "      <th>...</th>\n",
              "      <td>...</td>\n",
              "      <td>...</td>\n",
              "      <td>...</td>\n",
              "      <td>...</td>\n",
              "      <td>...</td>\n",
              "      <td>...</td>\n",
              "      <td>...</td>\n",
              "      <td>...</td>\n",
              "      <td>...</td>\n",
              "      <td>...</td>\n",
              "      <td>...</td>\n",
              "      <td>...</td>\n",
              "      <td>...</td>\n",
              "      <td>...</td>\n",
              "      <td>...</td>\n",
              "      <td>...</td>\n",
              "      <td>...</td>\n",
              "      <td>...</td>\n",
              "      <td>...</td>\n",
              "      <td>...</td>\n",
              "      <td>...</td>\n",
              "    </tr>\n",
              "    <tr>\n",
              "      <th>2295</th>\n",
              "      <td>x2296</td>\n",
              "      <td>0.00</td>\n",
              "      <td>0.00</td>\n",
              "      <td>0.00</td>\n",
              "      <td>0.0</td>\n",
              "      <td>0.00</td>\n",
              "      <td>0.00</td>\n",
              "      <td>0.00</td>\n",
              "      <td>0.00</td>\n",
              "      <td>0.00</td>\n",
              "      <td>...</td>\n",
              "      <td>0.00</td>\n",
              "      <td>0.250</td>\n",
              "      <td>0.0</td>\n",
              "      <td>0.000</td>\n",
              "      <td>0.000</td>\n",
              "      <td>0.000</td>\n",
              "      <td>1.601</td>\n",
              "      <td>8</td>\n",
              "      <td>173</td>\n",
              "      <td>0</td>\n",
              "    </tr>\n",
              "    <tr>\n",
              "      <th>2296</th>\n",
              "      <td>x2297</td>\n",
              "      <td>0.00</td>\n",
              "      <td>0.00</td>\n",
              "      <td>0.00</td>\n",
              "      <td>0.0</td>\n",
              "      <td>0.00</td>\n",
              "      <td>0.00</td>\n",
              "      <td>0.00</td>\n",
              "      <td>0.00</td>\n",
              "      <td>0.00</td>\n",
              "      <td>...</td>\n",
              "      <td>0.00</td>\n",
              "      <td>0.632</td>\n",
              "      <td>0.0</td>\n",
              "      <td>0.000</td>\n",
              "      <td>0.000</td>\n",
              "      <td>0.000</td>\n",
              "      <td>2.142</td>\n",
              "      <td>11</td>\n",
              "      <td>45</td>\n",
              "      <td>0</td>\n",
              "    </tr>\n",
              "    <tr>\n",
              "      <th>2297</th>\n",
              "      <td>x2298</td>\n",
              "      <td>0.00</td>\n",
              "      <td>0.00</td>\n",
              "      <td>0.00</td>\n",
              "      <td>0.0</td>\n",
              "      <td>0.00</td>\n",
              "      <td>0.00</td>\n",
              "      <td>0.00</td>\n",
              "      <td>0.00</td>\n",
              "      <td>0.00</td>\n",
              "      <td>...</td>\n",
              "      <td>0.00</td>\n",
              "      <td>0.091</td>\n",
              "      <td>0.0</td>\n",
              "      <td>0.045</td>\n",
              "      <td>0.000</td>\n",
              "      <td>0.000</td>\n",
              "      <td>2.333</td>\n",
              "      <td>15</td>\n",
              "      <td>175</td>\n",
              "      <td>0</td>\n",
              "    </tr>\n",
              "    <tr>\n",
              "      <th>2298</th>\n",
              "      <td>x2299</td>\n",
              "      <td>0.00</td>\n",
              "      <td>0.00</td>\n",
              "      <td>0.60</td>\n",
              "      <td>0.0</td>\n",
              "      <td>0.60</td>\n",
              "      <td>0.00</td>\n",
              "      <td>0.00</td>\n",
              "      <td>0.00</td>\n",
              "      <td>0.00</td>\n",
              "      <td>...</td>\n",
              "      <td>0.00</td>\n",
              "      <td>0.110</td>\n",
              "      <td>0.0</td>\n",
              "      <td>0.000</td>\n",
              "      <td>0.000</td>\n",
              "      <td>0.000</td>\n",
              "      <td>1.074</td>\n",
              "      <td>3</td>\n",
              "      <td>29</td>\n",
              "      <td>0</td>\n",
              "    </tr>\n",
              "    <tr>\n",
              "      <th>2299</th>\n",
              "      <td>x2300</td>\n",
              "      <td>0.00</td>\n",
              "      <td>0.32</td>\n",
              "      <td>0.32</td>\n",
              "      <td>0.0</td>\n",
              "      <td>0.16</td>\n",
              "      <td>0.16</td>\n",
              "      <td>0.00</td>\n",
              "      <td>0.00</td>\n",
              "      <td>0.16</td>\n",
              "      <td>...</td>\n",
              "      <td>0.00</td>\n",
              "      <td>1.309</td>\n",
              "      <td>0.0</td>\n",
              "      <td>0.022</td>\n",
              "      <td>0.377</td>\n",
              "      <td>0.000</td>\n",
              "      <td>3.918</td>\n",
              "      <td>157</td>\n",
              "      <td>772</td>\n",
              "      <td>0</td>\n",
              "    </tr>\n",
              "  </tbody>\n",
              "</table>\n",
              "<p>2300 rows × 59 columns</p>\n",
              "</div>\n",
              "      <button class=\"colab-df-convert\" onclick=\"convertToInteractive('df-26cc5176-e73f-4ba1-a5c6-07b3dda21298')\"\n",
              "              title=\"Convert this dataframe to an interactive table.\"\n",
              "              style=\"display:none;\">\n",
              "        \n",
              "  <svg xmlns=\"http://www.w3.org/2000/svg\" height=\"24px\"viewBox=\"0 0 24 24\"\n",
              "       width=\"24px\">\n",
              "    <path d=\"M0 0h24v24H0V0z\" fill=\"none\"/>\n",
              "    <path d=\"M18.56 5.44l.94 2.06.94-2.06 2.06-.94-2.06-.94-.94-2.06-.94 2.06-2.06.94zm-11 1L8.5 8.5l.94-2.06 2.06-.94-2.06-.94L8.5 2.5l-.94 2.06-2.06.94zm10 10l.94 2.06.94-2.06 2.06-.94-2.06-.94-.94-2.06-.94 2.06-2.06.94z\"/><path d=\"M17.41 7.96l-1.37-1.37c-.4-.4-.92-.59-1.43-.59-.52 0-1.04.2-1.43.59L10.3 9.45l-7.72 7.72c-.78.78-.78 2.05 0 2.83L4 21.41c.39.39.9.59 1.41.59.51 0 1.02-.2 1.41-.59l7.78-7.78 2.81-2.81c.8-.78.8-2.07 0-2.86zM5.41 20L4 18.59l7.72-7.72 1.47 1.35L5.41 20z\"/>\n",
              "  </svg>\n",
              "      </button>\n",
              "      \n",
              "  <style>\n",
              "    .colab-df-container {\n",
              "      display:flex;\n",
              "      flex-wrap:wrap;\n",
              "      gap: 12px;\n",
              "    }\n",
              "\n",
              "    .colab-df-convert {\n",
              "      background-color: #E8F0FE;\n",
              "      border: none;\n",
              "      border-radius: 50%;\n",
              "      cursor: pointer;\n",
              "      display: none;\n",
              "      fill: #1967D2;\n",
              "      height: 32px;\n",
              "      padding: 0 0 0 0;\n",
              "      width: 32px;\n",
              "    }\n",
              "\n",
              "    .colab-df-convert:hover {\n",
              "      background-color: #E2EBFA;\n",
              "      box-shadow: 0px 1px 2px rgba(60, 64, 67, 0.3), 0px 1px 3px 1px rgba(60, 64, 67, 0.15);\n",
              "      fill: #174EA6;\n",
              "    }\n",
              "\n",
              "    [theme=dark] .colab-df-convert {\n",
              "      background-color: #3B4455;\n",
              "      fill: #D2E3FC;\n",
              "    }\n",
              "\n",
              "    [theme=dark] .colab-df-convert:hover {\n",
              "      background-color: #434B5C;\n",
              "      box-shadow: 0px 1px 3px 1px rgba(0, 0, 0, 0.15);\n",
              "      filter: drop-shadow(0px 1px 2px rgba(0, 0, 0, 0.3));\n",
              "      fill: #FFFFFF;\n",
              "    }\n",
              "  </style>\n",
              "\n",
              "      <script>\n",
              "        const buttonEl =\n",
              "          document.querySelector('#df-26cc5176-e73f-4ba1-a5c6-07b3dda21298 button.colab-df-convert');\n",
              "        buttonEl.style.display =\n",
              "          google.colab.kernel.accessAllowed ? 'block' : 'none';\n",
              "\n",
              "        async function convertToInteractive(key) {\n",
              "          const element = document.querySelector('#df-26cc5176-e73f-4ba1-a5c6-07b3dda21298');\n",
              "          const dataTable =\n",
              "            await google.colab.kernel.invokeFunction('convertToInteractive',\n",
              "                                                     [key], {});\n",
              "          if (!dataTable) return;\n",
              "\n",
              "          const docLinkHtml = 'Like what you see? Visit the ' +\n",
              "            '<a target=\"_blank\" href=https://colab.research.google.com/notebooks/data_table.ipynb>data table notebook</a>'\n",
              "            + ' to learn more about interactive tables.';\n",
              "          element.innerHTML = '';\n",
              "          dataTable['output_type'] = 'display_data';\n",
              "          await google.colab.output.renderOutput(dataTable, element);\n",
              "          const docLink = document.createElement('div');\n",
              "          docLink.innerHTML = docLinkHtml;\n",
              "          element.appendChild(docLink);\n",
              "        }\n",
              "      </script>\n",
              "    </div>\n",
              "  </div>\n",
              "  "
            ]
          },
          "metadata": {},
          "execution_count": 121
        }
      ]
    },
    {
      "cell_type": "markdown",
      "source": [
        "Preprocess Training Data"
      ],
      "metadata": {
        "id": "W3nr_FzoKnpi"
      }
    },
    {
      "cell_type": "code",
      "source": [
        "# Check for NaN\n",
        "dftrain.isnull().sum().sum()"
      ],
      "metadata": {
        "colab": {
          "base_uri": "https://localhost:8080/"
        },
        "id": "QCI89l2pKHpt",
        "outputId": "0ff54bab-71dd-4d1e-c9e3-a38f1d271e7a"
      },
      "execution_count": null,
      "outputs": [
        {
          "output_type": "execute_result",
          "data": {
            "text/plain": [
              "0"
            ]
          },
          "metadata": {},
          "execution_count": 122
        }
      ]
    },
    {
      "cell_type": "code",
      "source": [
        "# Count labels \n",
        "dftrain.Label.value_counts()"
      ],
      "metadata": {
        "colab": {
          "base_uri": "https://localhost:8080/"
        },
        "id": "YzUS_PdyPjqN",
        "outputId": "37df8409-c5f6-4917-d32e-4dd3dceed139"
      },
      "execution_count": null,
      "outputs": [
        {
          "output_type": "execute_result",
          "data": {
            "text/plain": [
              "0    1394\n",
              "1     906\n",
              "Name: Label, dtype: int64"
            ]
          },
          "metadata": {},
          "execution_count": 123
        }
      ]
    },
    {
      "cell_type": "code",
      "source": [
        "# Turn pandas df into a numpy array\n",
        "dftrain_array = dftrain.to_numpy()\n",
        "print(dftrain_array)\n",
        "print(dftrain_array.shape)"
      ],
      "metadata": {
        "colab": {
          "base_uri": "https://localhost:8080/"
        },
        "id": "FyTI5iJbgdvX",
        "outputId": "37c3a575-7f81-4832-e248-ba685c79db6a"
      },
      "execution_count": null,
      "outputs": [
        {
          "output_type": "stream",
          "name": "stdout",
          "text": [
            "[['x1' 0.0 0.64 ... 61 278 1]\n",
            " ['x2' 0.21 0.28 ... 101 1028 1]\n",
            " ['x3' 0.06 0.0 ... 485 2259 1]\n",
            " ...\n",
            " ['x2298' 0.0 0.0 ... 15 175 0]\n",
            " ['x2299' 0.0 0.0 ... 3 29 0]\n",
            " ['x2300' 0.0 0.32 ... 157 772 0]]\n",
            "(2300, 59)\n"
          ]
        }
      ]
    },
    {
      "cell_type": "code",
      "source": [
        "# Make array with only features \n",
        "dftrain_feat = np.delete(dftrain_array, [0, 58], 1)\n",
        "print(dftrain_feat)\n",
        "print(dftrain_feat.shape)"
      ],
      "metadata": {
        "colab": {
          "base_uri": "https://localhost:8080/"
        },
        "id": "c71p9RcMgdnS",
        "outputId": "4cac36b4-9458-450f-f675-da69197ec7ca"
      },
      "execution_count": null,
      "outputs": [
        {
          "output_type": "stream",
          "name": "stdout",
          "text": [
            "[[0.0 0.64 0.64 ... 3.756 61 278]\n",
            " [0.21 0.28 0.5 ... 5.114 101 1028]\n",
            " [0.06 0.0 0.71 ... 9.821 485 2259]\n",
            " ...\n",
            " [0.0 0.0 0.0 ... 2.333 15 175]\n",
            " [0.0 0.0 0.6 ... 1.074 3 29]\n",
            " [0.0 0.32 0.32 ... 3.918 157 772]]\n",
            "(2300, 57)\n"
          ]
        }
      ]
    },
    {
      "cell_type": "code",
      "source": [
        "# Normalize training data\n",
        "DFtrain = dftrain.drop(columns=[\" ID\", \"Label\"])\n",
        "N_dftrain = DFtrain.apply(zscore)\n",
        "N_dftrain_feat = N_dftrain.to_numpy()"
      ],
      "metadata": {
        "colab": {
          "base_uri": "https://localhost:8080/"
        },
        "id": "H1xdF3Mn06RB",
        "outputId": "4ad26cdd-979b-4911-c166-a75f61f0955e"
      },
      "execution_count": null,
      "outputs": [
        {
          "output_type": "execute_result",
          "data": {
            "text/plain": [
              "array([[-3.49034620e-01,  1.78848168e-01,  7.15694977e-01, ...,\n",
              "        -5.61520521e-02,  6.04041908e-02, -3.07579604e-02],\n",
              "       [ 4.07692741e-01, -2.35882426e-02,  4.36187660e-01, ...,\n",
              "        -2.33287294e-02,  3.39715889e-01,  1.22718414e+00],\n",
              "       [-1.32826803e-01, -1.81038784e-01,  8.55448636e-01, ...,\n",
              "         9.04410643e-02,  3.02110819e+00,  3.29188643e+00],\n",
              "       ...,\n",
              "       [-3.49034620e-01, -1.81038784e-01, -5.62052756e-01, ...,\n",
              "        -9.05464470e-02, -2.60804262e-01, -2.03515342e-01],\n",
              "       [-3.49034620e-01, -1.81038784e-01,  6.35835744e-01, ...,\n",
              "        -1.20976906e-01, -3.44597772e-01, -4.48394736e-01],\n",
              "       [-3.49034620e-01, -1.09530812e-03,  7.68211103e-02, ...,\n",
              "        -5.22364569e-02,  7.30752267e-01,  7.97806567e-01]])"
            ]
          },
          "metadata": {},
          "execution_count": 134
        }
      ]
    },
    {
      "cell_type": "markdown",
      "source": [
        "# Non-normalized"
      ],
      "metadata": {
        "id": "QtppV4fluoro"
      }
    },
    {
      "cell_type": "markdown",
      "source": [
        "## Calculate distance between each email in the test set and each email in the training set\n",
        "Then store in a 2D array (dist_array)"
      ],
      "metadata": {
        "id": "lVarspxvhV1K"
      }
    },
    {
      "cell_type": "code",
      "source": [
        "count = 0\n",
        "\n",
        "# Create array to store all distances \n",
        "dist_array = np.zeros(((len(dftest_feat)), (len(dftrain_feat))))\n",
        "\n",
        "for i in range(len(dftest_feat)): \n",
        "  A = dftest_feat[i,:]\n",
        "  for j in range(len(dftrain_feat)): \n",
        "    # Get each row of the dfs as arrays \n",
        "    B = dftrain_feat[j,:]\n",
        "\n",
        "    # Calculate distance between two emails \n",
        "    dist = np.linalg.norm(A-B)\n",
        "    #print(dist)\n",
        "\n",
        "    # Store distances in new array\n",
        "    dist_array[i,j] = dist\n",
        "\n",
        "    count += 1\n",
        "\n",
        "print(count)"
      ],
      "metadata": {
        "id": "nifI8YrDhVib",
        "colab": {
          "base_uri": "https://localhost:8080/"
        },
        "outputId": "a141c139-2a9b-47c5-8360-f77fbf40f8e2"
      },
      "execution_count": null,
      "outputs": [
        {
          "output_type": "stream",
          "name": "stdout",
          "text": [
            "5292300\n"
          ]
        }
      ]
    },
    {
      "cell_type": "markdown",
      "source": [
        "## Find k shortest distances"
      ],
      "metadata": {
        "id": "se9ZIDhVuk3Z"
      }
    },
    {
      "cell_type": "code",
      "source": [
        "# Make all classes from dftest a separate array\n",
        "test_Labels = dftest[[\"Label\"]].to_numpy()\n",
        "test_Labels.shape = (1, 2301)\n",
        "\n",
        "# Create 2D array to store all class predictions for the test data\n",
        "# Rows are equal to k = [0,1,2,3,4,5,6,7,8,9]\n",
        "predicted_class = np.empty([10, 2301])\n",
        "\n",
        "row_for_k = [0,1,2,3,4,5,6,7,8,9]\n",
        "k_array= [1, 5, 11, 21, 41, 61, 81, 101, 201, 401]\n",
        "\n",
        "for k in row_for_k:\n",
        "  curr_k = k_array[k]\n",
        "  for i in range(0,2301):\n",
        "    classes = [] # Classes of neighbor emails\n",
        "    # Make temp dictionary with distances sorted and corresponding training email#\n",
        "    row_dict = {}\n",
        "    for j in range(0,2300):\n",
        "      row_dict[j] = dist_array[i,j]\n",
        "    sorted_dict = dict(sorted(row_dict.items(), key=lambda item: item[1]))\n",
        "    # Now I have the distances from shortest to largest with their training emails\n",
        "\n",
        "    for c in range(curr_k):\n",
        "      key_list = list(sorted_dict.keys())\n",
        "      train_email = key_list[c]\n",
        "\n",
        "      # Row containing training email with shortest dist to test email\n",
        "      closest = dftrain_array[(train_email-1),:]\n",
        "\n",
        "      # Array containing the classes of the closest emails\n",
        "      classes.append(closest[-1])\n",
        "\n",
        "    #print(classes)\n",
        "\n",
        "    # Using majority vote of of k nearest neighbors, determine class of email\n",
        "    if np.size(classes) == 1:\n",
        "      if np.sum(classes) == 0:\n",
        "        #print(\"0: Not Spam\") \n",
        "        predicted_class[k,i] = 0\n",
        "      elif np.sum(classes) == 1:\n",
        "        #print(\"1: Spam\")\n",
        "        predicted_class[k,i] = 1\n",
        "    elif np.sum(classes) < ((np.size(classes))/2):\n",
        "      #print(\"0: Not Spam\")\n",
        "      predicted_class[k,i] = 0\n",
        "    elif np.sum(classes) > ((np.size(classes))/2):\n",
        "      #print(\"1: Spam\")\n",
        "      predicted_class[k,i] = 1\n"
      ],
      "metadata": {
        "id": "irFIE-M8aNpQ"
      },
      "execution_count": null,
      "outputs": []
    },
    {
      "cell_type": "code",
      "source": [
        "# Test accuracy \n",
        "k_array= [1, 5, 11, 21, 41, 61, 81, 101, 201, 401]\n",
        "\n",
        "for k in range(0,10):\n",
        "  curr_k = k_array[k]\n",
        "  correct = 0\n",
        "  for t in range(2301):        \n",
        "    if predicted_class[k,t] == test_Labels[:,t]:\n",
        "      correct += 1\n",
        "  accuracy = correct/2300\n",
        "  print(\"Accuracy of predicted class results when k =\", curr_k, \":\", accuracy)"
      ],
      "metadata": {
        "colab": {
          "base_uri": "https://localhost:8080/"
        },
        "id": "BQYgHIarA3pM",
        "outputId": "90dab8ac-f8a0-401e-c9b7-9e0d19be975d"
      },
      "execution_count": null,
      "outputs": [
        {
          "output_type": "stream",
          "name": "stdout",
          "text": [
            "Accuracy of predicted class results when k = 1 : 0.7526086956521739\n",
            "Accuracy of predicted class results when k = 5 : 0.7552173913043478\n",
            "Accuracy of predicted class results when k = 11 : 0.7652173913043478\n",
            "Accuracy of predicted class results when k = 21 : 0.7469565217391304\n",
            "Accuracy of predicted class results when k = 41 : 0.7526086956521739\n",
            "Accuracy of predicted class results when k = 61 : 0.7378260869565217\n",
            "Accuracy of predicted class results when k = 81 : 0.7269565217391304\n",
            "Accuracy of predicted class results when k = 101 : 0.7291304347826087\n",
            "Accuracy of predicted class results when k = 201 : 0.73\n",
            "Accuracy of predicted class results when k = 401 : 0.7204347826086956\n"
          ]
        }
      ]
    },
    {
      "cell_type": "markdown",
      "source": [
        "# Normalized "
      ],
      "metadata": {
        "id": "5WrFPC8Our8r"
      }
    },
    {
      "cell_type": "markdown",
      "source": [
        "## Calculate distance between each email in the test set and each email in the training set (norm)\n",
        "Then store in a 2D array (dist_array)"
      ],
      "metadata": {
        "id": "mZvYuh6Ju3Iz"
      }
    },
    {
      "cell_type": "code",
      "source": [
        "count = 0\n",
        "\n",
        "# Create array to store all distances \n",
        "N_dist_array = np.zeros(((len(N_dftest_feat)), (len(N_dftrain_feat))))\n",
        "\n",
        "for i in range(len(N_dftest_feat)): \n",
        "  A = N_dftest_feat[i,:]\n",
        "  for j in range(len(N_dftrain_feat)): \n",
        "    # Get each row of the dfs as arrays \n",
        "    B = N_dftrain_feat[j,:]\n",
        "\n",
        "    # Calculate distance between two emails \n",
        "    N_dist = np.linalg.norm(A-B)\n",
        "    \n",
        "    # Store distances in new array\n",
        "    N_dist_array[i,j] = N_dist\n",
        "\n",
        "    count += 1\n",
        "\n",
        "print(count)"
      ],
      "metadata": {
        "colab": {
          "base_uri": "https://localhost:8080/"
        },
        "outputId": "63160287-c538-4f96-ca5f-2a7a56f19653",
        "id": "g8o_BWMcu3I1"
      },
      "execution_count": null,
      "outputs": [
        {
          "output_type": "stream",
          "name": "stdout",
          "text": [
            "5292300\n"
          ]
        }
      ]
    },
    {
      "cell_type": "markdown",
      "source": [
        "## Find k shortest distances (norm)"
      ],
      "metadata": {
        "id": "3aWPkdIlu-1u"
      }
    },
    {
      "cell_type": "code",
      "source": [
        "# Make all classes from dftest a separate array\n",
        "N_test_Labels = dftest[[\"Label\"]].to_numpy()\n",
        "N_test_Labels.shape = (1, 2301)\n",
        "\n",
        "# Create 2D array to store all class predictions for the test data\n",
        "# Rows are equal to k = [0,1,2,3,4,5,6,7,8,9]\n",
        "N_predicted_class = np.empty([10, 2301])\n",
        "\n",
        "row_for_k = [0,1,2,3,4,5,6,7,8,9]\n",
        "k_array= [1, 5, 11, 21, 41, 61, 81, 101, 201, 401]\n",
        "\n",
        "for k in row_for_k:\n",
        "  curr_k = k_array[k]\n",
        "  for i in range(0,2301):\n",
        "    N_classes = [] # Classes of neighbor emails\n",
        "    # Make temp dictionary with distances sorted and corresponding training email#\n",
        "    row_dict = {}\n",
        "    for j in range(0,2300):\n",
        "      row_dict[j] = N_dist_array[i,j]\n",
        "    sorted_dict = dict(sorted(row_dict.items(), key=lambda item: item[1]))\n",
        "    # Now I have the distances from shortest to largest with their training emails\n",
        "\n",
        "    for c in range(curr_k):\n",
        "      key_list = list(sorted_dict.keys())\n",
        "      train_email = key_list[c]\n",
        "\n",
        "      # Row containing training email with shortest dist to test email\n",
        "      N_closest = dftrain_array[(train_email-1),:]\n",
        "\n",
        "      # Array containing the classes of the closest emails\n",
        "      N_classes.append(N_closest[-1])\n",
        "\n",
        "    #print(N_classes)\n",
        "\n",
        "    # Using majority vote of of k nearest neighbors, determine class of email\n",
        "    if np.size(N_classes) == 1:\n",
        "      if np.sum(N_classes) == 0:\n",
        "        #print(\"0: Not Spam\") \n",
        "        N_predicted_class[k,i] = 0\n",
        "      elif np.sum(N_classes) == 1:\n",
        "        #print(\"1: Spam\")\n",
        "        N_predicted_class[k,i] = 1\n",
        "    elif np.sum(N_classes) < ((np.size(N_classes))/2):\n",
        "      #print(\"0: Not Spam\")\n",
        "      N_predicted_class[k,i] = 0\n",
        "    elif np.sum(N_classes) > ((np.size(N_classes))/2):\n",
        "      #print(\"1: Spam\")\n",
        "      N_predicted_class[k,i] = 1\n"
      ],
      "metadata": {
        "id": "gyE-2XJXu-1u"
      },
      "execution_count": null,
      "outputs": []
    },
    {
      "cell_type": "code",
      "source": [
        "# Test accuracy \n",
        "k_array= [1, 5, 11, 21, 41, 61, 81, 101, 201, 401]\n",
        "\n",
        "for k in range(0,10):\n",
        "  curr_k = k_array[k]\n",
        "  correct = 0\n",
        "  for t in range(2301):        \n",
        "    if N_predicted_class[k,t] == N_test_Labels[:,t]:\n",
        "      correct += 1\n",
        "  accuracy = correct/2300\n",
        "  print(\"Accuracy of predicted class results when k =\", curr_k, \":\", accuracy, \"(normalized)\")"
      ],
      "metadata": {
        "colab": {
          "base_uri": "https://localhost:8080/"
        },
        "outputId": "67d03418-b0e8-46a2-dced-a34855880c69",
        "id": "9f2OIOwbu-1v"
      },
      "execution_count": null,
      "outputs": [
        {
          "output_type": "stream",
          "name": "stdout",
          "text": [
            "Accuracy of predicted class results when k = 1 : 0.8234782608695652 (normalized)\n",
            "Accuracy of predicted class results when k = 5 : 0.8326086956521739 (normalized)\n",
            "Accuracy of predicted class results when k = 11 : 0.8752173913043478 (normalized)\n",
            "Accuracy of predicted class results when k = 21 : 0.871304347826087 (normalized)\n",
            "Accuracy of predicted class results when k = 41 : 0.871304347826087 (normalized)\n",
            "Accuracy of predicted class results when k = 61 : 0.8726086956521739 (normalized)\n",
            "Accuracy of predicted class results when k = 81 : 0.8708695652173913 (normalized)\n",
            "Accuracy of predicted class results when k = 101 : 0.8647826086956522 (normalized)\n",
            "Accuracy of predicted class results when k = 201 : 0.8469565217391304 (normalized)\n",
            "Accuracy of predicted class results when k = 401 : 0.8139130434782609 (normalized)\n"
          ]
        }
      ]
    },
    {
      "cell_type": "markdown",
      "source": [
        "## KNN predicted labels for the first 50 instances "
      ],
      "metadata": {
        "id": "jSz9OyacAH6o"
      }
    },
    {
      "cell_type": "code",
      "source": [
        "for i in range(0,51):\n",
        "  print(\"t\", (i+1), \"[\", end = ' ')\n",
        "  for j in range(0,10):\n",
        "    if N_predicted_class[j,i] == 1.0:\n",
        "      print(\"spam\", end = ' ')\n",
        "    else:\n",
        "      print(\"no\", end = ' ')\n",
        "  print(\"]\")"
      ],
      "metadata": {
        "colab": {
          "base_uri": "https://localhost:8080/"
        },
        "id": "qDxuqtC77Fz0",
        "outputId": "9f44eff8-ed80-485b-8476-0a678462e176"
      },
      "execution_count": null,
      "outputs": [
        {
          "output_type": "stream",
          "name": "stdout",
          "text": [
            "t 1 [ spam spam spam spam spam no no no no no ]\n",
            "t 2 [ spam spam spam spam spam spam spam no no no ]\n",
            "t 3 [ spam spam spam spam spam spam spam spam spam spam ]\n",
            "t 4 [ spam spam spam spam no no spam spam spam spam ]\n",
            "t 5 [ spam spam spam spam spam spam spam spam spam spam ]\n",
            "t 6 [ spam spam spam no no spam spam spam spam spam ]\n",
            "t 7 [ spam no no no no no no no no no ]\n",
            "t 8 [ spam spam spam spam spam spam spam spam spam spam ]\n",
            "t 9 [ spam spam spam spam spam spam spam spam spam spam ]\n",
            "t 10 [ spam spam spam spam spam spam spam spam spam spam ]\n",
            "t 11 [ spam spam spam spam spam spam spam spam spam spam ]\n",
            "t 12 [ spam spam spam spam spam spam spam spam spam spam ]\n",
            "t 13 [ spam spam spam spam spam spam no no no no ]\n",
            "t 14 [ no spam spam spam no no no no no no ]\n",
            "t 15 [ spam spam spam spam spam spam spam spam spam spam ]\n",
            "t 16 [ spam spam spam spam spam spam spam spam spam spam ]\n",
            "t 17 [ spam spam spam spam spam spam spam spam spam spam ]\n",
            "t 18 [ spam spam spam spam spam spam spam no no no ]\n",
            "t 19 [ spam spam spam spam spam spam spam spam spam spam ]\n",
            "t 20 [ no spam spam spam spam spam spam spam spam spam ]\n",
            "t 21 [ spam spam spam spam spam spam spam spam spam spam ]\n",
            "t 22 [ spam spam spam spam spam spam no no no no ]\n",
            "t 23 [ spam spam spam spam spam spam spam spam spam spam ]\n",
            "t 24 [ no no spam spam spam spam spam spam spam spam ]\n",
            "t 25 [ spam spam spam spam spam spam spam spam spam spam ]\n",
            "t 26 [ spam spam spam spam spam spam spam spam spam spam ]\n",
            "t 27 [ spam spam spam spam spam spam spam spam spam spam ]\n",
            "t 28 [ spam spam spam spam spam spam spam spam spam spam ]\n",
            "t 29 [ spam spam spam no spam spam spam spam no no ]\n",
            "t 30 [ spam spam spam spam no no no no no no ]\n",
            "t 31 [ spam no no no no no no no no no ]\n",
            "t 32 [ spam spam spam spam no spam spam spam no no ]\n",
            "t 33 [ spam spam spam spam no no no no no no ]\n",
            "t 34 [ spam spam no spam no no no no no no ]\n",
            "t 35 [ spam spam spam spam spam spam spam spam spam spam ]\n",
            "t 36 [ spam spam spam spam spam spam spam spam spam spam ]\n",
            "t 37 [ spam spam spam spam spam spam spam spam spam spam ]\n",
            "t 38 [ spam spam spam spam spam spam spam spam spam spam ]\n",
            "t 39 [ spam spam spam spam spam spam spam spam spam spam ]\n",
            "t 40 [ no no no no no no no no no no ]\n",
            "t 41 [ no no no no no no no no no no ]\n",
            "t 42 [ spam spam spam spam spam spam spam spam no no ]\n",
            "t 43 [ no no no no no no no no no no ]\n",
            "t 44 [ no no no no no no no no no no ]\n",
            "t 45 [ spam spam spam spam spam spam spam spam spam spam ]\n",
            "t 46 [ spam spam spam spam spam spam spam spam spam spam ]\n",
            "t 47 [ spam spam spam spam spam spam spam spam spam spam ]\n",
            "t 48 [ spam spam spam spam spam spam spam spam spam spam ]\n",
            "t 49 [ spam spam spam spam spam spam spam spam spam spam ]\n",
            "t 50 [ spam spam spam spam spam spam spam spam spam spam ]\n",
            "t 51 [ spam spam spam spam spam spam spam spam spam spam ]\n"
          ]
        }
      ]
    }
  ]
}